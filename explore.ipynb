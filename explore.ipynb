{
 "cells": [
  {
   "cell_type": "code",
   "execution_count": 6,
   "metadata": {},
   "outputs": [],
   "source": [
    "import numpy as np\n",
    "import pandas as pd\n",
    "\n",
    "import acquire\n",
    "\n",
    "from sklearn.preprocessing import MinMaxScaler\n",
    "from sklearn.model_selection import train_test_split\n",
    "\n",
    "import warnings\n",
    "warnings.filterwarnings('ignore')"
   ]
  },
  {
   "cell_type": "code",
   "execution_count": 2,
   "metadata": {},
   "outputs": [],
   "source": [
    "df = acquire.get_mallcustomer_data()"
   ]
  },
  {
   "cell_type": "code",
   "execution_count": 3,
   "metadata": {},
   "outputs": [],
   "source": [
    "# from explore.py:\n",
    "def train_validate_test_split(df, target, seed=1349):\n",
    "    '''\n",
    "    This function takes in a dataframe, the name of the target variable\n",
    "    (for stratification purposes), and an integer for a setting a seed\n",
    "    and splits the data into train, validate and test. \n",
    "    Test is 20% of the original dataset, validate is .30*.80= 24% of the \n",
    "    original dataset, and train is .70*.80= 56% of the original dataset. \n",
    "    The function returns, in this order, train, validate and test dataframes. \n",
    "    '''\n",
    "    train_validate, test = train_test_split(df, test_size=0.2, \n",
    "                                            random_state=seed)\n",
    "    train, validate = train_test_split(train_validate, test_size=0.3, \n",
    "                                       random_state=seed)\n",
    "    return train, validate, test"
   ]
  },
  {
   "cell_type": "code",
   "execution_count": 7,
   "metadata": {},
   "outputs": [],
   "source": [
    "def scale_my_data(train, validate, test):\n",
    "    scaler = MinMaxScaler()\n",
    "    scaler.fit(train[['age', 'annual_income']])\n",
    "    X_train_scaled = scaler.transform(train[['age', 'annual_income']])\n",
    "    X_validate_scaled = scaler.transform(validate[['age', 'annual_income']])\n",
    "    X_test_scaled = scaler.transform(test[['age', 'annual_income']])\n",
    "\n",
    "    train[['age_scaled', 'income_scaled']] = X_train_scaled\n",
    "    validate[['age_scaled', 'income_scaled']] = X_validate_scaled\n",
    "    test[['age_scaled', 'income_scaled']] = X_test_scaled\n",
    "    return train, validate, test\n",
    "\n",
    "def prep_mall(df):\n",
    "    '''\n",
    "    dummy var for gender into is_male\n",
    "    add 'spending_class' that cut spending score into the 4 quartiles and label the new field by [q1, q2, q3, q4]. \n",
    "    split on target of 'spending_score'\n",
    "    scale age and annual income. \n",
    "    '''\n",
    "    df['is_male'] = pd.get_dummies(df['gender'], drop_first=True)['Male']\n",
    "    df = df.drop(columns=['gender'])\n",
    "    df['spending_class'] = pd.qcut(df.spending_score, q=4, labels=['q1', 'q2', 'q3', 'q4'])\n",
    "    train, validate, test = train_validate_test_split(df, target='spending_score', seed=1349)\n",
    "    train, validate, test = scale_my_data(train, validate, test)\n",
    "    return df, train, validate, test\n",
    "\n",
    "df, train, validate, test = prep_mall(df)"
   ]
  },
  {
   "cell_type": "markdown",
   "metadata": {},
   "source": [
    "**Goals of exploration**\n",
    "\n",
    "- Can we see patterns, find signals in the data? \n",
    "\n",
    "- What features are driving the outcome?\n",
    "\n",
    "- Are there other features we can construct that have stronger relationships? \n",
    "\n",
    "- Use Visualization and statistical testing to help answer these questions. \n",
    "\n",
    "- We want to walk away from exploration with with modeling strategies (feature selection, algorithm selection, evaluation methods, for example).  \n",
    "\n",
    "**Agenda**\n",
    "\n",
    "- Wrangle data (acquire, prep, summarize, split)\n",
    "\n",
    "- Identify questions to answer, hypotheses to test."
   ]
  },
  {
   "cell_type": "code",
   "execution_count": null,
   "metadata": {},
   "outputs": [],
   "source": []
  }
 ],
 "metadata": {
  "kernelspec": {
   "display_name": "Python 3",
   "language": "python",
   "name": "python3"
  },
  "language_info": {
   "codemirror_mode": {
    "name": "ipython",
    "version": 3
   },
   "file_extension": ".py",
   "mimetype": "text/x-python",
   "name": "python",
   "nbconvert_exporter": "python",
   "pygments_lexer": "ipython3",
   "version": "3.8.2"
  }
 },
 "nbformat": 4,
 "nbformat_minor": 4
}
